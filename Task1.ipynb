{
 "cells": [
  {
   "cell_type": "markdown",
   "metadata": {
    "id": "Av_sK6JRQag5"
   },
   "source": [
    "# SIT742: Modern Data Science \n",
    "**(2021 Assessment Task 02 - Data Analytics)**\n",
    "\n",
    "---\n",
    "- Please refer to the CloudDeakin for the detailed assessment requirements.\n",
    "- Please submit to Clouddeakin before the due date.\n",
    "- It is a group assignment, and please form a group and self-enrol into the CloudDeakin groups.\n",
    "- Students with difficulty in meeting the deadline because of illness, etc. must apply for an assignment extension in CloudDeakin no later than *12:00pm on 21/05/2021 (Friday)*.\n",
    "\n",
    "\n",
    "Prepared by **SIT742 Teaching Team**\n",
    "\n",
    "\n",
    "---\n",
    "\n",
    "<div class=\"alert alert-block alert-info\">\n",
    "Enter your group information in the following cell.   \n",
    "</div>\n",
    "\n",
    "**Student Information:** Please fill your group information below\n",
    "\n",
    "- Group ID: 60\n",
    "- Names: Jackson, Giang\n",
    "- Student IDs: 219515675, \n",
    "- Emails:\n",
    "- Lab Session and Tutor (for on campus students): \n",
    "\n",
    "---\n",
    "\n",
    "\n",
    "# Part I - Web Log Data\n",
    "\n",
    "## Overview\n",
    "\n",
    "Hotel TULIP a five-star hotel located at Deakin University, and its CIO Dr Bear Guts has asked the Team-SIT742 team to analyse the weblogs files. Hence, Hotel TULIP would like you *Group-SIT742* (a hypothetical data analytics group with up to 3 data analysers) to analyse web log files and discover user accessing patterns of different web pages. \n",
    "\n",
    "In this part, you are required to use give dataset to finish some required analysis, with the exploreation data analytics skills as well as visuilization skill.\n",
    "\n",
    "\n",
    "You will be required to complete the coding to answer the questions with a neat and clean format, and you must keep outputs for code. Your commenting and adherence to code standards will also be considered when marking. Further information on Python standards, please visit https://www.python.org/dev/peps/pep-0008/ \n",
    "\n",
    "\n",
    "**Note**: You are not restricted to the partial code provided, and you can write your own code to implement the required tasks. But you should provide sufficient comments.\n"
   ]
  },
  {
   "cell_type": "markdown",
   "metadata": {
    "id": "gamCnd8GKEJ7"
   },
   "source": [
    "## 1.Data ETL"
   ]
  },
  {
   "cell_type": "markdown",
   "metadata": {
    "id": "z6Ro64a9KNWs"
   },
   "source": [
    "### 1.1 Load Data"
   ]
  },
  {
   "cell_type": "code",
   "execution_count": null,
   "metadata": {
    "id": "xAqQSV9FdjrR"
   },
   "outputs": [],
   "source": [
    "# from google.colab import drive\n",
    "# drive.mount('/content/drive')"
   ]
  },
  {
   "cell_type": "code",
   "execution_count": 1,
   "metadata": {
    "colab": {
     "base_uri": "https://localhost:8080/",
     "height": 351
    },
    "id": "37Nq2m64KP0N",
    "outputId": "a5f27043-a4ae-4a93-df5c-0f26e506947c"
   },
   "outputs": [],
   "source": [
    "from ipywidgets import IntProgress\n",
    "import pandas as pd\n",
    "from IPython.display import display\n",
    "from zipfile import ZipFile\n",
    "import matplotlib.pyplot as plt\n",
    "import os\n",
    "\n",
    "LOG_FILES_PATH = os.path.join(os.getcwd(), \"data\")\n",
    "\n",
    "# Your file might be in a different location, so you need to customize the path\n",
    "all_files = ZipFile(os.path.join(os.getcwd(), 'HTWebLog_p1.zip'), 'r')\n",
    "files = all_files.namelist()\n",
    "\n",
    "data = []\n",
    "# Define the column names\n",
    "ColumnNames=['date','time','s_sitename','s_ip','cs_method','cs_uri_stem','cs_uri_query','s_port','cs_username',\n",
    "             'c_ip','cs(User_Agent)','cs(Referer)','sc_status','sc_substatus','sc_win32_status']\n",
    "\n",
    "#Your code to load data from all log files in the provided zip file\n"
   ]
  },
  {
   "cell_type": "code",
   "execution_count": 2,
   "metadata": {
    "id": "q6FLTrRvdjrS",
    "scrolled": true
   },
   "outputs": [],
   "source": [
    "all_files.extractall(LOG_FILES_PATH)"
   ]
  },
  {
   "cell_type": "code",
   "execution_count": 3,
   "metadata": {
    "id": "r0J-oc5XdjrS"
   },
   "outputs": [],
   "source": [
    "def load_file_to_df(path, ColumnNames):\n",
    "    return pd.read_csv(path, sep=' ', comment='#', engine='python', names=ColumnNames)"
   ]
  },
  {
   "cell_type": "code",
   "execution_count": 4,
   "metadata": {
    "id": "ffOeOZo7djrS"
   },
   "outputs": [],
   "source": [
    "data_gen = (load_file_to_df(os.path.join(os.getcwd(), 'data', file),\n",
    "                                ColumnNames) for file in files)"
   ]
  },
  {
   "cell_type": "code",
   "execution_count": 5,
   "metadata": {
    "id": "u7nG1R5WdjrT"
   },
   "outputs": [],
   "source": [
    "df_ht = pd.concat(data_gen)"
   ]
  },
  {
   "cell_type": "code",
   "execution_count": 6,
   "metadata": {
    "id": "4dIXoBj_djrT",
    "outputId": "70c73872-167e-4ec4-d883-13da27489a31"
   },
   "outputs": [
    {
     "data": {
      "text/html": [
       "<div>\n",
       "<style scoped>\n",
       "    .dataframe tbody tr th:only-of-type {\n",
       "        vertical-align: middle;\n",
       "    }\n",
       "\n",
       "    .dataframe tbody tr th {\n",
       "        vertical-align: top;\n",
       "    }\n",
       "\n",
       "    .dataframe thead th {\n",
       "        text-align: right;\n",
       "    }\n",
       "</style>\n",
       "<table border=\"1\" class=\"dataframe\">\n",
       "  <thead>\n",
       "    <tr style=\"text-align: right;\">\n",
       "      <th></th>\n",
       "      <th>date</th>\n",
       "      <th>time</th>\n",
       "      <th>s_sitename</th>\n",
       "      <th>s_ip</th>\n",
       "      <th>cs_method</th>\n",
       "      <th>cs_uri_stem</th>\n",
       "      <th>cs_uri_query</th>\n",
       "      <th>s_port</th>\n",
       "      <th>cs_username</th>\n",
       "      <th>c_ip</th>\n",
       "      <th>cs(User_Agent)</th>\n",
       "      <th>cs(Referer)</th>\n",
       "      <th>sc_status</th>\n",
       "      <th>sc_substatus</th>\n",
       "      <th>sc_win32_status</th>\n",
       "    </tr>\n",
       "  </thead>\n",
       "  <tbody>\n",
       "    <tr>\n",
       "      <th>0</th>\n",
       "      <td>2006-11-01</td>\n",
       "      <td>00:00:08</td>\n",
       "      <td>W3SVC1</td>\n",
       "      <td>127.0.0.1</td>\n",
       "      <td>GET</td>\n",
       "      <td>/Default.aspx</td>\n",
       "      <td>-</td>\n",
       "      <td>80.0</td>\n",
       "      <td>-</td>\n",
       "      <td>70.80.84.76</td>\n",
       "      <td>Mozilla/4.0+(compatible;+MSIE+6.0;+Windows+NT+...</td>\n",
       "      <td>http://www.google.com/search?sourceid=navclien...</td>\n",
       "      <td>200.0</td>\n",
       "      <td>0.0</td>\n",
       "      <td>0.0</td>\n",
       "    </tr>\n",
       "    <tr>\n",
       "      <th>1</th>\n",
       "      <td>2006-11-01</td>\n",
       "      <td>00:00:08</td>\n",
       "      <td>W3SVC1</td>\n",
       "      <td>127.0.0.1</td>\n",
       "      <td>GET</td>\n",
       "      <td>/Tulip/home/en-us/home_index.aspx</td>\n",
       "      <td>-</td>\n",
       "      <td>80.0</td>\n",
       "      <td>-</td>\n",
       "      <td>70.80.84.76</td>\n",
       "      <td>Mozilla/4.0+(compatible;+MSIE+6.0;+Windows+NT+...</td>\n",
       "      <td>-</td>\n",
       "      <td>200.0</td>\n",
       "      <td>0.0</td>\n",
       "      <td>0.0</td>\n",
       "    </tr>\n",
       "    <tr>\n",
       "      <th>2</th>\n",
       "      <td>2006-11-01</td>\n",
       "      <td>00:00:08</td>\n",
       "      <td>W3SVC1</td>\n",
       "      <td>127.0.0.1</td>\n",
       "      <td>GET</td>\n",
       "      <td>/Tulip/includes/js/CommonUtil.js</td>\n",
       "      <td>-</td>\n",
       "      <td>80.0</td>\n",
       "      <td>-</td>\n",
       "      <td>70.80.84.76</td>\n",
       "      <td>Mozilla/4.0+(compatible;+MSIE+6.0;+Windows+NT+...</td>\n",
       "      <td>http://www.hotelTulip.com.hk/Tulip/home/en-us/...</td>\n",
       "      <td>200.0</td>\n",
       "      <td>0.0</td>\n",
       "      <td>0.0</td>\n",
       "    </tr>\n",
       "    <tr>\n",
       "      <th>3</th>\n",
       "      <td>2006-11-01</td>\n",
       "      <td>00:00:09</td>\n",
       "      <td>W3SVC1</td>\n",
       "      <td>127.0.0.1</td>\n",
       "      <td>GET</td>\n",
       "      <td>/Tulip/common/common_style.aspx</td>\n",
       "      <td>lang=en-us</td>\n",
       "      <td>80.0</td>\n",
       "      <td>-</td>\n",
       "      <td>70.80.84.76</td>\n",
       "      <td>Mozilla/4.0+(compatible;+MSIE+6.0;+Windows+NT+...</td>\n",
       "      <td>http://www.hotelTulip.com.hk/Tulip/home/en-us/...</td>\n",
       "      <td>200.0</td>\n",
       "      <td>0.0</td>\n",
       "      <td>0.0</td>\n",
       "    </tr>\n",
       "    <tr>\n",
       "      <th>4</th>\n",
       "      <td>2006-11-01</td>\n",
       "      <td>00:00:09</td>\n",
       "      <td>W3SVC1</td>\n",
       "      <td>127.0.0.1</td>\n",
       "      <td>GET</td>\n",
       "      <td>/Tulip/common/en-us/images/top_img.jpg</td>\n",
       "      <td>-</td>\n",
       "      <td>80.0</td>\n",
       "      <td>-</td>\n",
       "      <td>70.80.84.76</td>\n",
       "      <td>Mozilla/4.0+(compatible;+MSIE+6.0;+Windows+NT+...</td>\n",
       "      <td>http://www.hotelTulip.com.hk/Tulip/home/en-us/...</td>\n",
       "      <td>200.0</td>\n",
       "      <td>0.0</td>\n",
       "      <td>0.0</td>\n",
       "    </tr>\n",
       "  </tbody>\n",
       "</table>\n",
       "</div>"
      ],
      "text/plain": [
       "         date      time s_sitename       s_ip cs_method  \\\n",
       "0  2006-11-01  00:00:08     W3SVC1  127.0.0.1       GET   \n",
       "1  2006-11-01  00:00:08     W3SVC1  127.0.0.1       GET   \n",
       "2  2006-11-01  00:00:08     W3SVC1  127.0.0.1       GET   \n",
       "3  2006-11-01  00:00:09     W3SVC1  127.0.0.1       GET   \n",
       "4  2006-11-01  00:00:09     W3SVC1  127.0.0.1       GET   \n",
       "\n",
       "                              cs_uri_stem cs_uri_query  s_port cs_username  \\\n",
       "0                           /Default.aspx            -    80.0           -   \n",
       "1       /Tulip/home/en-us/home_index.aspx            -    80.0           -   \n",
       "2        /Tulip/includes/js/CommonUtil.js            -    80.0           -   \n",
       "3         /Tulip/common/common_style.aspx   lang=en-us    80.0           -   \n",
       "4  /Tulip/common/en-us/images/top_img.jpg            -    80.0           -   \n",
       "\n",
       "          c_ip                                     cs(User_Agent)  \\\n",
       "0  70.80.84.76  Mozilla/4.0+(compatible;+MSIE+6.0;+Windows+NT+...   \n",
       "1  70.80.84.76  Mozilla/4.0+(compatible;+MSIE+6.0;+Windows+NT+...   \n",
       "2  70.80.84.76  Mozilla/4.0+(compatible;+MSIE+6.0;+Windows+NT+...   \n",
       "3  70.80.84.76  Mozilla/4.0+(compatible;+MSIE+6.0;+Windows+NT+...   \n",
       "4  70.80.84.76  Mozilla/4.0+(compatible;+MSIE+6.0;+Windows+NT+...   \n",
       "\n",
       "                                         cs(Referer)  sc_status  sc_substatus  \\\n",
       "0  http://www.google.com/search?sourceid=navclien...      200.0           0.0   \n",
       "1                                                  -      200.0           0.0   \n",
       "2  http://www.hotelTulip.com.hk/Tulip/home/en-us/...      200.0           0.0   \n",
       "3  http://www.hotelTulip.com.hk/Tulip/home/en-us/...      200.0           0.0   \n",
       "4  http://www.hotelTulip.com.hk/Tulip/home/en-us/...      200.0           0.0   \n",
       "\n",
       "   sc_win32_status  \n",
       "0              0.0  \n",
       "1              0.0  \n",
       "2              0.0  \n",
       "3              0.0  \n",
       "4              0.0  "
      ]
     },
     "execution_count": 6,
     "metadata": {},
     "output_type": "execute_result"
    }
   ],
   "source": [
    "df_ht.head()"
   ]
  },
  {
   "cell_type": "code",
   "execution_count": 7,
   "metadata": {},
   "outputs": [
    {
     "data": {
      "text/plain": [
       "8438929"
      ]
     },
     "execution_count": 7,
     "metadata": {},
     "output_type": "execute_result"
    }
   ],
   "source": [
    "len(df_ht)"
   ]
  },
  {
   "cell_type": "markdown",
   "metadata": {
    "id": "CHszLEn5djrU"
   },
   "source": [
    "data = list()\n",
    "for file in files:\n",
    "    data.append(load_file_to_df(os.path.join(os.getcwd(), 'data', file),\n",
    "                                ColumnNames))"
   ]
  },
  {
   "cell_type": "markdown",
   "metadata": {
    "id": "SmbO0UE1KrvL"
   },
   "source": [
    "In order to reduce the processing time, we will remove all missing values for data and only select 30% of total data for classification. \n",
    "\n",
    "**Code**: \n",
    "    1. Remove all NAs, for the columns, if the column is with 15% NAs, you need to remove that column. Then, for the rows, if there are any NAs in that row, you need to remove that row (requests)  \n",
    "    2. select 30\\% of the total data in to a new dataframe weblog_df.\n",
    "    \n",
    "    *Keep the outputs for code in your notebook.\n",
    "\n",
    "**Report**:\n",
    "    The number of requests in weblog\\_df.\n"
   ]
  },
  {
   "cell_type": "code",
   "execution_count": 8,
   "metadata": {
    "id": "DTigmVardjrU"
   },
   "outputs": [],
   "source": [
    "#Your code to remove missing values as required.\n",
    "df_ht = df_ht.dropna()"
   ]
  },
  {
   "cell_type": "code",
   "execution_count": 9,
   "metadata": {
    "id": "DpmltkHRdjrV",
    "outputId": "d5c75663-3093-4679-d79c-d0b620bf051e"
   },
   "outputs": [
    {
     "name": "stdout",
     "output_type": "stream",
     "text": [
      "2531452\n"
     ]
    }
   ],
   "source": [
    "# only 30% of total data are selected for classification\n",
    "weblog_df = df_ht.sample(frac = 0.3, random_state=1)\n",
    "\n",
    "#Your code to show the number of requests in weblog_df\n",
    "print(len(weblog_df))"
   ]
  },
  {
   "cell_type": "markdown",
   "metadata": {
    "id": "qaKs1Ic5Ln8F"
   },
   "source": [
    "### 1.2 Feature Selection\n",
    "\n",
    "**Code**: \n",
    "    You are required to select *'cs_method'*,*'c_ip'*,*'cs_uri_stem'*,*'cs(User_Agent)'* as input features  and 'sc_status' as class label into a new dataframe ml_df for following Machine Learning Tasks. \n",
    "\n",
    "*Keep the outputs for code in your notebook.\n",
    "\n",
    "**Report**:\n",
    "    1. Data Description of ml_df,  \n",
    "    2. Print top 5 rows of ml_df.\n",
    "\n"
   ]
  },
  {
   "cell_type": "code",
   "execution_count": 10,
   "metadata": {
    "id": "begZOxggN2A8",
    "outputId": "6b39cda1-5156-4802-e2f5-af78f1c4b09f"
   },
   "outputs": [
    {
     "data": {
      "text/html": [
       "<div>\n",
       "<style scoped>\n",
       "    .dataframe tbody tr th:only-of-type {\n",
       "        vertical-align: middle;\n",
       "    }\n",
       "\n",
       "    .dataframe tbody tr th {\n",
       "        vertical-align: top;\n",
       "    }\n",
       "\n",
       "    .dataframe thead th {\n",
       "        text-align: right;\n",
       "    }\n",
       "</style>\n",
       "<table border=\"1\" class=\"dataframe\">\n",
       "  <thead>\n",
       "    <tr style=\"text-align: right;\">\n",
       "      <th></th>\n",
       "      <th>cs_method</th>\n",
       "      <th>c_ip</th>\n",
       "      <th>cs_uri_stem</th>\n",
       "      <th>cs(User_Agent)</th>\n",
       "      <th>sc_status</th>\n",
       "    </tr>\n",
       "  </thead>\n",
       "  <tbody>\n",
       "    <tr>\n",
       "      <th>0</th>\n",
       "      <td>GET</td>\n",
       "      <td>203.208.250.136</td>\n",
       "      <td>/promotion/general_footer.jpg</td>\n",
       "      <td>Mozilla/4.0+(compatible;+MSIE+6.0;+Windows+NT+...</td>\n",
       "      <td>304.0</td>\n",
       "    </tr>\n",
       "    <tr>\n",
       "      <th>1</th>\n",
       "      <td>GET</td>\n",
       "      <td>220.110.6.89</td>\n",
       "      <td>/Tulip/common/ja/images/sectionbanner_gifts_of...</td>\n",
       "      <td>Mozilla/4.0+(compatible;+MSIE+6.0;+Windows+NT+...</td>\n",
       "      <td>304.0</td>\n",
       "    </tr>\n",
       "    <tr>\n",
       "      <th>2</th>\n",
       "      <td>GET</td>\n",
       "      <td>202.130.156.2</td>\n",
       "      <td>/promotion/Fp00606_1.jpg</td>\n",
       "      <td>Mozilla/4.0+(compatible;+MSIE+6.0;+Windows+NT+...</td>\n",
       "      <td>200.0</td>\n",
       "    </tr>\n",
       "    <tr>\n",
       "      <th>3</th>\n",
       "      <td>GET</td>\n",
       "      <td>61.15.157.110</td>\n",
       "      <td>/Tulip/common/en-us/images/sidebanner_2.jpg</td>\n",
       "      <td>Mozilla/4.0+(compatible;+MSIE+6.0;+Windows+NT+...</td>\n",
       "      <td>200.0</td>\n",
       "    </tr>\n",
       "    <tr>\n",
       "      <th>4</th>\n",
       "      <td>GET</td>\n",
       "      <td>221.126.234.179</td>\n",
       "      <td>/Tulip/common/en-us/images/topmenu_zh-cn.gif</td>\n",
       "      <td>Mozilla/4.0+(compatible;+MSIE+6.0;+Windows+NT+...</td>\n",
       "      <td>200.0</td>\n",
       "    </tr>\n",
       "  </tbody>\n",
       "</table>\n",
       "</div>"
      ],
      "text/plain": [
       "  cs_method             c_ip  \\\n",
       "0       GET  203.208.250.136   \n",
       "1       GET     220.110.6.89   \n",
       "2       GET    202.130.156.2   \n",
       "3       GET    61.15.157.110   \n",
       "4       GET  221.126.234.179   \n",
       "\n",
       "                                         cs_uri_stem  \\\n",
       "0                      /promotion/general_footer.jpg   \n",
       "1  /Tulip/common/ja/images/sectionbanner_gifts_of...   \n",
       "2                           /promotion/Fp00606_1.jpg   \n",
       "3        /Tulip/common/en-us/images/sidebanner_2.jpg   \n",
       "4       /Tulip/common/en-us/images/topmenu_zh-cn.gif   \n",
       "\n",
       "                                      cs(User_Agent)  sc_status  \n",
       "0  Mozilla/4.0+(compatible;+MSIE+6.0;+Windows+NT+...      304.0  \n",
       "1  Mozilla/4.0+(compatible;+MSIE+6.0;+Windows+NT+...      304.0  \n",
       "2  Mozilla/4.0+(compatible;+MSIE+6.0;+Windows+NT+...      200.0  \n",
       "3  Mozilla/4.0+(compatible;+MSIE+6.0;+Windows+NT+...      200.0  \n",
       "4  Mozilla/4.0+(compatible;+MSIE+6.0;+Windows+NT+...      200.0  "
      ]
     },
     "execution_count": 10,
     "metadata": {},
     "output_type": "execute_result"
    }
   ],
   "source": [
    "# Your code for feature selection\n",
    "ml_df = weblog_df[[\"cs_method\", \"c_ip\", \"cs_uri_stem\", \"cs(User_Agent)\", \n",
    "                   \"sc_status\"]].reset_index(drop=True)\n",
    "\n",
    "#Your code to show the top 5 rows of ml_df\n",
    "ml_df.head(5)"
   ]
  },
  {
   "cell_type": "markdown",
   "metadata": {
    "id": "1j3dndKNMgDO"
   },
   "source": [
    "## 2.Unsupervised Learning\n",
    " You are required to complete this part only using **sklearn**.\n",
    "\n",
    "\n",
    "**Code**: <br>\n",
    "    1. Perform unsupervised learning on ml_df with K Means, with a varying K from 2 to 10;<br>\n",
    "    2. Plot in the elbow plot. \n",
    "    \n",
    "    *Keep the outputs for code in your notebook.\n",
    "\n",
    "**Report**:\n",
    "    1. Figure 'KMeans' in the elbow plot, with a varying K from 2 to 10.\n",
    "\n"
   ]
  },
  {
   "cell_type": "code",
   "execution_count": 25,
   "metadata": {
    "id": "4ouPnmm0djrW"
   },
   "outputs": [],
   "source": [
    "from sklearn.cluster import KMeans\n",
    "from sklearn import preprocessing\n",
    "from sklearn.cluster import KMeans\n",
    "import matplotlib.pyplot as plt\n",
    "from sklearn import metrics\n",
    "\n",
    "le_df = ml_df.apply(preprocessing.LabelEncoder().fit_transform)"
   ]
  },
  {
   "cell_type": "code",
   "execution_count": 12,
   "metadata": {
    "id": "IhmmXQXOdjrW"
   },
   "outputs": [],
   "source": [
    "#Your code for Kmeans\n",
    "iner = list()\n",
    "for k in range(2, 11):\n",
    "    kmeans = KMeans(n_clusters=k)\n",
    "    kmeans.fit(le_df)\n",
    "    iner.append(kmeans.inertia_)"
   ]
  },
  {
   "cell_type": "code",
   "execution_count": 13,
   "metadata": {
    "id": "o0m6R9R5N6Kq",
    "outputId": "f9b17714-3a37-4931-8251-264fcc269540"
   },
   "outputs": [
    {
     "data": {
      "image/png": "[encoded data removed]",
      "text/plain": [
       "<Figure size 432x288 with 1 Axes>"
      ]
     },
     "metadata": {
      "needs_background": "light"
     },
     "output_type": "display_data"
    }
   ],
   "source": [
    "#Your code for visualizing K means result as elbow plot.\n",
    "plt.plot(range(2, 11), iner, marker='o')\n",
    "plt.xlabel('Number of clusters')\n",
    "plt.ylabel('Distortion')\n",
    "plt.show()"
   ]
  },
  {
   "cell_type": "markdown",
   "metadata": {
    "id": "dU6zSmu0OEHC"
   },
   "source": [
    "## 3.Supervised Learning\n",
    " You are required to complete this part only using **PySpark**.\n"
   ]
  },
  {
   "cell_type": "code",
   "execution_count": 14,
   "metadata": {
    "id": "fh8-pmiTQuza",
    "outputId": "22af0080-6144-4bed-e721-c4c60ed7731b"
   },
   "outputs": [
    {
     "name": "stdout",
     "output_type": "stream",
     "text": [
      "/bin/sh: apt-get: command not found\n",
      "/bin/sh: apt-get: command not found\n"
     ]
    }
   ],
   "source": [
    "!apt-get update\n",
    "# install Java8\n",
    "!apt-get install openjdk-8-jdk-headless -qq > /dev/null\n",
    "# download spark 3.1.1\n",
    "!wget -q http://apache.osuosl.org/spark/spark-3.1.1/spark-3.1.1-bin-hadoop3.2.tgz\n",
    "# unzip it\n",
    "!tar xf spark-3.1.1-bin-hadoop3.2.tgz\n",
    "# install findspark \n",
    "!pip install -q findspark "
   ]
  },
  {
   "cell_type": "code",
   "execution_count": 15,
   "metadata": {
    "id": "LqypLNTedjrX",
    "scrolled": true
   },
   "outputs": [
    {
     "ename": "ModuleNotFoundError",
     "evalue": "No module named 'pyspark'",
     "output_type": "error",
     "traceback": [
      "\u001b[0;31m---------------------------------------------------------------------------\u001b[0m",
      "\u001b[0;31mModuleNotFoundError\u001b[0m                       Traceback (most recent call last)",
      "\u001b[0;32m<ipython-input-15-b9d87de7d1ca>\u001b[0m in \u001b[0;36m<module>\u001b[0;34m\u001b[0m\n\u001b[0;32m----> 1\u001b[0;31m \u001b[0;32mimport\u001b[0m \u001b[0mpyspark\u001b[0m\u001b[0;34m\u001b[0m\u001b[0;34m\u001b[0m\u001b[0m\n\u001b[0m\u001b[1;32m      2\u001b[0m \u001b[0;32mfrom\u001b[0m \u001b[0mpyspark\u001b[0m\u001b[0;34m.\u001b[0m\u001b[0msql\u001b[0m \u001b[0;32mimport\u001b[0m \u001b[0mSparkSession\u001b[0m\u001b[0;34m\u001b[0m\u001b[0;34m\u001b[0m\u001b[0m\n\u001b[1;32m      3\u001b[0m \u001b[0;32mfrom\u001b[0m \u001b[0mpyspark\u001b[0m\u001b[0;34m.\u001b[0m\u001b[0msql\u001b[0m\u001b[0;34m.\u001b[0m\u001b[0mtypes\u001b[0m \u001b[0;32mimport\u001b[0m \u001b[0;34m*\u001b[0m\u001b[0;34m\u001b[0m\u001b[0;34m\u001b[0m\u001b[0m\n\u001b[1;32m      4\u001b[0m \u001b[0;34m\u001b[0m\u001b[0m\n\u001b[1;32m      5\u001b[0m \u001b[0mspark\u001b[0m \u001b[0;34m=\u001b[0m \u001b[0mSparkSession\u001b[0m\u001b[0;34m.\u001b[0m\u001b[0mbuilder\u001b[0m\u001b[0;34m.\u001b[0m\u001b[0mappName\u001b[0m\u001b[0;34m(\u001b[0m\u001b[0;34m'SIT742T2'\u001b[0m\u001b[0;34m)\u001b[0m\u001b[0;34m.\u001b[0m\u001b[0mgetOrCreate\u001b[0m\u001b[0;34m(\u001b[0m\u001b[0;34m)\u001b[0m\u001b[0;34m\u001b[0m\u001b[0;34m\u001b[0m\u001b[0m\n",
      "\u001b[0;31mModuleNotFoundError\u001b[0m: No module named 'pyspark'"
     ]
    }
   ],
   "source": [
    "import pyspark\n",
    "from pyspark.sql import SparkSession \n",
    "from pyspark.sql.types import *\n",
    "\n",
    "spark = SparkSession.builder.appName('SIT742T2').getOrCreate()"
   ]
  },
  {
   "cell_type": "markdown",
   "metadata": {
    "id": "RncKyIESOMnJ"
   },
   "source": [
    "### 3.1 Data Preparation \n",
    "\n",
    "In order to reduce the processing time, we will select 10% of le_df."
   ]
  },
  {
   "cell_type": "code",
   "execution_count": null,
   "metadata": {
    "id": "DE23Ll_fOS5J"
   },
   "outputs": [],
   "source": [
    "schema = StructType([StructField(\"sc_status\", IntegerType(), True),\n",
    "                     StructField(\"cs_method\", IntegerType(), True),\n",
    "                     StructField(\"c_ip\", IntegerType(), True),\n",
    "                     StructField(\"cs_uri_stem\", IntegerType(), True),\n",
    "                     StructField(\"cs(User_Agent)\", IntegerType(), True)])\n",
    "\n",
    "sl_df = spark.createDataFrame(le_df, schema)"
   ]
  },
  {
   "cell_type": "code",
   "execution_count": null,
   "metadata": {
    "id": "dJdQe_8tPvlF"
   },
   "outputs": [],
   "source": [
    "#Only 10% of the data is used in this part.\n",
    "sl_df = sl_df.sample(fraction=0.1, seed=1)"
   ]
  },
  {
   "cell_type": "code",
   "execution_count": null,
   "metadata": {
    "id": "y8xfcCxOdjrY",
    "outputId": "68a82dcb-92b2-4cb2-9ae8-59a89be6759f"
   },
   "outputs": [
    {
     "name": "stdout",
     "output_type": "stream",
     "text": [
      "+---------+---------+----+-----------+--------------+\n",
      "|sc_status|cs_method|c_ip|cs_uri_stem|cs(User_Agent)|\n",
      "+---------+---------+----+-----------+--------------+\n",
      "|        0|    61061|2125|       1395|             0|\n",
      "|        0|     8469|2136|       1540|             4|\n",
      "|        0|     5916|3562|       1540|             0|\n",
      "|        0|    40181|2314|       1395|             4|\n",
      "|        0|    49481|2158|       1540|             4|\n",
      "|        0|    58922|2136|       2139|             4|\n",
      "|        0|    69733|1273|       2436|             4|\n",
      "|        0|    12999|2110|       1395|             4|\n",
      "|        0|    37352|3337|       1540|             4|\n",
      "|        0|     5901|2337|       1395|             0|\n",
      "|        0|    34352|2206|       1540|             0|\n",
      "|        0|     7237|2151|       2138|             4|\n",
      "|        0|    20808|2111|       1650|             4|\n",
      "|        0|    28768|2126|       1540|             0|\n",
      "|        0|     6503|2530|       1540|             0|\n",
      "|        0|     9636|2324|       1540|             0|\n",
      "|        0|    31311|2159|       1968|             4|\n",
      "|        0|    34701|2274|       1395|             0|\n",
      "|        0|    52896|2647|       1656|             4|\n",
      "|        0|    21480|2133|       1540|             0|\n",
      "+---------+---------+----+-----------+--------------+\n",
      "only showing top 20 rows\n",
      "\n"
     ]
    }
   ],
   "source": [
    "sl_df.show()"
   ]
  },
  {
   "cell_type": "code",
   "execution_count": null,
   "metadata": {
    "id": "Ipk6kmNLdjrY"
   },
   "outputs": [],
   "source": [
    "# os.environ[\"SPARK_HOME\"] = \"content/spark-3.1.1-bin-hadoop3.2\"\n",
    "# os.environ[\"JAVA_HOME\"] = \"content/jdk-15.0.1\""
   ]
  },
  {
   "cell_type": "code",
   "execution_count": null,
   "metadata": {
    "id": "Ut3zjBOyU2FU",
    "outputId": "5fa42f66-a30e-4280-ffc4-da2dda59801b"
   },
   "outputs": [
    {
     "name": "stdout",
     "output_type": "stream",
     "text": [
      "+---------+---------+----+-----------+--------------+--------------------+\n",
      "|sc_status|cs_method|c_ip|cs_uri_stem|cs(User_Agent)|            features|\n",
      "+---------+---------+----+-----------+--------------+--------------------+\n",
      "|        0|    61061|2125|       1395|             0|[61061.0,2125.0,1...|\n",
      "|        0|     8469|2136|       1540|             4|[8469.0,2136.0,15...|\n",
      "|        0|     5916|3562|       1540|             0|[5916.0,3562.0,15...|\n",
      "+---------+---------+----+-----------+--------------+--------------------+\n",
      "only showing top 3 rows\n",
      "\n"
     ]
    }
   ],
   "source": [
    "from pyspark.ml.linalg import Vectors\n",
    "from pyspark.ml.feature import VectorAssembler\n",
    "# transformer\n",
    "vector_assembler = VectorAssembler(inputCols=['cs_method', 'c_ip', 'cs_uri_stem', 'cs(User_Agent)'],\n",
    "                                   outputCol=\"features\")\n",
    "df_temp = vector_assembler.transform(sl_df)\n",
    "df_temp.show(3)"
   ]
  },
  {
   "cell_type": "code",
   "execution_count": null,
   "metadata": {
    "id": "JBoKE5tYVdXj",
    "outputId": "1eb39b9f-7a78-4074-b5ca-dd3962830fc4"
   },
   "outputs": [
    {
     "name": "stdout",
     "output_type": "stream",
     "text": [
      "+---------+--------------------+\n",
      "|sc_status|            features|\n",
      "+---------+--------------------+\n",
      "|        0|[61061.0,2125.0,1...|\n",
      "|        0|[8469.0,2136.0,15...|\n",
      "|        0|[5916.0,3562.0,15...|\n",
      "+---------+--------------------+\n",
      "only showing top 3 rows\n",
      "\n"
     ]
    }
   ],
   "source": [
    "df_sl = df_temp.drop('cs_method', 'c_ip', 'cs_uri_stem', 'cs(User_Agent)')\n",
    "df_sl.show(3)"
   ]
  },
  {
   "cell_type": "markdown",
   "metadata": {
    "id": "12YtMZE0OTOR"
   },
   "source": [
    "###  3.2 Decision Tree or Logistic Regression\n",
    "\n",
    " <div class=\"alert alert-block alert-info\">\n",
    "\n",
    "**Code**: \n",
    "    1. Perform supervised learning on ml\\_df with Decision Tree or Logistic Regression,  <br>\n",
    "    2. Evaluate the classification result using [confusion matrix ](https://en.wikipedia.org/wiki/Confusion_matrix) including TP, TN, FP, FN, <br>\n",
    "    3. Evaluate the classification result using Precision, Recall and F1 score.\n",
    "    <br>\n",
    "    *Keep the outputs for code in your notebook.\n",
    "\n",
    "**Report**:\n",
    "    1. Display the classification result using [confusion matrix ](https://en.wikipedia.org/wiki/Confusion_matrix) including TP, TN, FP, FN, <br>\n",
    "    2. Display the classification result using Precision, Recall and F1 score.\n",
    "</div>"
   ]
  },
  {
   "cell_type": "code",
   "execution_count": null,
   "metadata": {
    "id": "M_XZqsSAOr4a"
   },
   "outputs": [],
   "source": [
    "#Create the data sets for training and testing\n",
    "(trainingData, testData) = df_sl.randomSplit([0.7, 0.3])"
   ]
  },
  {
   "cell_type": "code",
   "execution_count": null,
   "metadata": {
    "id": "19Ri7rpuOxk6"
   },
   "outputs": [],
   "source": [
    "from pyspark.ml.classification import LogisticRegression\n",
    "from pyspark.ml.classification import DecisionTreeClassifier\n",
    "from pyspark.ml.evaluation import MulticlassClassificationEvaluator\n",
    "# Your code contains trainning from train data and predicting based on the test data\n",
    "\n",
    "lr = LogisticRegression(labelCol='sc_status')\n",
    "lrModel = lr.fit(trainingData)\n",
    "preds_lr = lrModel.transform(testData)"
   ]
  },
  {
   "cell_type": "code",
   "execution_count": null,
   "metadata": {},
   "outputs": [],
   "source": [
    "kmeans = KMeans(n_clusters=10)\n",
    "kmeans.fit(le_df)\n",
    "pred=kmeans.predict(le_df)\n",
    "confusion=metrics.confusion_matrix(y_test,pred)\n",
    "print(confusion)"
   ]
  },
  {
   "cell_type": "code",
   "execution_count": null,
   "metadata": {
    "id": "66ESM5L3O1cp"
   },
   "outputs": [],
   "source": [
    "# Your code to display TP, TN, FP, FN\n",
    "# from pyspark.mllib.evaluation import MulticlassMetrics\n",
    "from pyspark.ml.evaluation import MulticlassClassificationEvaluator\n",
    "\n",
    "evaluator = MulticlassClassificationEvaluator(labelCol='sc_status')\n",
    "\n",
    "accuracy = evaluator.evaluate(preds_lr, {evaluator.metricName: \"accuracy\"})\n",
    "tpr = evaluator.evaluate(preds_lr, {evaluator.metricName: \"truePositiveRateByLabel\"})\n",
    "fpr = evaluator.evaluate(preds_lr, {evaluator.metricName: \"falsePositiveRateByLabel\"})\n",
    "precision = evaluator.evaluate(preds_lr, {evaluator.metricName: \"precisionByLabel\"})\n",
    "recall = evaluator.evaluate(preds_lr, {evaluator.metricName: \"recallByLabel\"})"
   ]
  },
  {
   "cell_type": "code",
   "execution_count": null,
   "metadata": {
    "id": "9BZB16gVO2pq",
    "outputId": "251ef4a8-49c0-4224-dc26-0cea7f1347d1"
   },
   "outputs": [
    {
     "name": "stdout",
     "output_type": "stream",
     "text": [
      "              precision    recall  f1-score   support\n",
      "\n",
      "           0       1.00      1.00      1.00     76128\n",
      "           1       0.00      0.00      0.00        72\n",
      "           2       0.00      0.00      0.00         5\n",
      "           3       0.00      0.00      0.00        83\n",
      "           4       1.00      1.00      1.00         1\n",
      "\n",
      "    accuracy                           1.00     76289\n",
      "   macro avg       0.40      0.40      0.40     76289\n",
      "weighted avg       1.00      1.00      1.00     76289\n",
      "\n"
     ]
    }
   ],
   "source": [
    "y_true = preds_lr.select(['sc_status']).collect()\n",
    "y_pred = preds_lr.select(['prediction']).collect()\n",
    "\n",
    "import numpy as np\n",
    "from sklearn.metrics import classification_report\n",
    "\n",
    "# Your Code to display the classification results as required.\n",
    "\n",
    "print(classification_report(np.array(y_true).reshape(-1), np.array(y_pred).reshape(-1)))"
   ]
  },
  {
   "cell_type": "markdown",
   "metadata": {
    "id": "vt5iA23HO5uC"
   },
   "source": [
    "### 3.3 K-fold Cross-Validation\n",
    "You are required to use K-fold cross validation to find out the best hyper-parameter set, where K = 2.\n",
    "<div class=\"alert alert-block alert-info\">\n",
    "\n",
    "**Code**: \n",
    "Implement 2-fold cross validation for three (any three) classification models, where K = 2.\n",
    "    <br>\n",
    "    *Keep the outputs for code in your notebook.\n",
    "\n",
    "**Report**:\n",
    "    1.  Your code design and running results, <br>\n",
    "\t\t2.  Your findings on hyper-parameters based on this cross-validation  results (Best results).\n",
    "</div>"
   ]
  },
  {
   "cell_type": "code",
   "execution_count": null,
   "metadata": {
    "id": "jgJtFjqKPEFD"
   },
   "outputs": [],
   "source": [
    "from pyspark.ml import Pipeline\n",
    "from pyspark.ml.classification import RandomForestClassifier\n",
    "from pyspark.ml.evaluation import MulticlassClassificationEvaluator\n",
    "from pyspark.ml.tuning import ParamGridBuilder, CrossValidator\n",
    "\n",
    "# K = 2\n",
    "# Your code for 2-fold cross validation\n",
    "lr = LogisticRegression(labelCol='sc_status')\n",
    "# pipeline = Pipeline(stages=[lr])\n",
    "paramGrid = ParamGridBuilder().addGrid(lr.regParam, [0.1, 0.01]).build()\n",
    "crossval = CrossValidator(estimator=lr,\n",
    "                          estimatorParamMaps=paramGrid,\n",
    "                          evaluator=MulticlassClassificationEvaluator(labelCol='sc_status'),\n",
    "                          numFolds=2)\n",
    "\n",
    "cvModel = crossval.fit(trainingData)\n",
    "cvPreds = cvModel.transform(testData)"
   ]
  },
  {
   "cell_type": "code",
   "execution_count": null,
   "metadata": {
    "id": "xvvl3Edkdjra",
    "outputId": "eb32778f-37fe-464e-a397-5ad60f9e3348"
   },
   "outputs": [
    {
     "name": "stdout",
     "output_type": "stream",
     "text": [
      "              precision    recall  f1-score   support\n",
      "\n",
      "           0       1.00      1.00      1.00     76128\n",
      "           1       0.00      0.00      0.00        72\n",
      "           2       0.00      0.00      0.00         5\n",
      "           3       0.00      0.00      0.00        83\n",
      "           4       0.00      0.00      0.00         1\n",
      "\n",
      "    accuracy                           1.00     76289\n",
      "   macro avg       0.20      0.20      0.20     76289\n",
      "weighted avg       1.00      1.00      1.00     76289\n",
      "\n"
     ]
    }
   ],
   "source": [
    "print(classification_report(np.array(cvPreds.select(['sc_status']).collect()).reshape(-1), \n",
    "                            np.array(cvPreds.select(['prediction']).collect()).reshape(-1)))"
   ]
  },
  {
   "cell_type": "code",
   "execution_count": null,
   "metadata": {
    "id": "EWNWPUTpdjra",
    "outputId": "ab56f57b-7f90-447e-d918-5e8de8802497"
   },
   "outputs": [
    {
     "name": "stdout",
     "output_type": "stream",
     "text": [
      "Accuracy of cross validation model:  0.9978896040058199\n",
      "TPR of cross validation model:  1.0\n",
      "FPR of cross validation model:  1.0\n",
      "Precision of cross validation model:  0.9978896040058199\n",
      "Recall of cross validation model:  1.0\n"
     ]
    }
   ],
   "source": [
    "print(\"Accuracy of cross validation model: \", evaluator.evaluate(cvPreds, {evaluator.metricName: \"accuracy\"}))\n",
    "print(\"TPR of cross validation model: \", evaluator.evaluate(cvPreds, {evaluator.metricName: \"truePositiveRateByLabel\"}))\n",
    "print(\"FPR of cross validation model: \", evaluator.evaluate(cvPreds, {evaluator.metricName: \"falsePositiveRateByLabel\"}))\n",
    "print(\"Precision of cross validation model: \", evaluator.evaluate(cvPreds, {evaluator.metricName: \"precisionByLabel\"}))\n",
    "print(\"Recall of cross validation model: \", evaluator.evaluate(cvPreds, {evaluator.metricName: \"recallByLabel\"}))"
   ]
  },
  {
   "cell_type": "markdown",
   "metadata": {
    "id": "-ThOmZbnPyMa"
   },
   "source": [
    "## 4.Association Rule Mining\n",
    "<div class=\"alert alert-block alert-info\">\n",
    "\n",
    "**Code**: \n",
    "Implement association rule mining with a suitable threshold for support, and confidence \n",
    "    <br>\n",
    "    *Keep the outputs for code in your notebook.\n",
    "\n",
    "**Report**:\n",
    "    1.  Your code design and running results, <br>\n",
    "\t\t2.  Your findings on on ARMing results.\n",
    "</div>"
   ]
  },
  {
   "cell_type": "code",
   "execution_count": null,
   "metadata": {
    "id": "VtZ5-w3tQJDl",
    "outputId": "4f2cd412-edad-435c-bfd6-af4b9a117fdf"
   },
   "outputs": [
    {
     "name": "stdout",
     "output_type": "stream",
     "text": [
      "Collecting apyori\n",
      "  Downloading https://files.pythonhosted.org/packages/5e/62/5ffde5c473ea4b033490617ec5caa80d59804875ad3c3c57c0976533a21a/apyori-1.1.2.tar.gz\n",
      "Building wheels for collected packages: apyori\n",
      "  Building wheel for apyori (setup.py) ... \u001b[?25ldone\n",
      "\u001b[?25h  Stored in directory: /home/rabio/.cache/pip/wheels/5d/92/bb/474bbadbc8c0062b9eb168f69982a0443263f8ab1711a8cad0\n",
      "Successfully built apyori\n",
      "Installing collected packages: apyori\n",
      "Successfully installed apyori-1.1.2\n"
     ]
    }
   ],
   "source": [
    "!pip install apyori"
   ]
  },
  {
   "cell_type": "code",
   "execution_count": null,
   "metadata": {
    "id": "sLR-Vp-cQPki",
    "outputId": "8643dade-2445-4afe-f65c-9ba9d0a5aa47"
   },
   "outputs": [
    {
     "name": "stdout",
     "output_type": "stream",
     "text": [
      "***********************************\n",
      "\n",
      "Rule: 7 -> 3156\n",
      "Support: 0.008836825663690246\n",
      "Confidence: 0.9905242649663479\n",
      "Lift: 36.93912334228417 \n",
      "\n",
      "***********************************\n",
      "\n",
      "\n",
      "***********************************\n",
      "\n",
      "Rule: 7 -> 3156 -> 0\n",
      "Support: 0.008834850512670198\n",
      "Confidence: 0.9903028692879914\n",
      "Lift: 36.97226132386733 \n",
      "\n",
      "***********************************\n",
      "\n",
      "\n"
     ]
    }
   ],
   "source": [
    "# you can also use PySpark package, if preferred\n",
    "from apyori import apriori\n",
    "\n",
    "# Your code\n",
    "records = le_df.applymap(str).values.tolist()\n",
    "supp_apri = 5000*365/8438172\n",
    "\n",
    "association_rules = apriori(records, min_support=0.005, min_confidence=0.2, min_lift=3, min_length=2)\n",
    "association_results = list(association_rules)\n",
    "\n",
    "def accociation_rul(rule):\n",
    "    print(\"*\"*35+\"\\n\")\n",
    "    items = [x for x in rule[0]]\n",
    "    print(\"Rule: \" + \" -> \".join(items))\n",
    "    print(\"Support: \" + str(rule[1]))\n",
    "    print(\"Confidence: \" + str(rule[2][0][2]))\n",
    "    print(\"Lift: \" + str(rule[2][0][3]), \"\\n\")\n",
    "    print(\"*\"*35+\"\\n\\n\")\n",
    "\n",
    "for rule in list(association_results)[:5]:\n",
    "    accociation_rul(rule)"
   ]
  },
  {
   "cell_type": "markdown",
   "metadata": {
    "id": "mX5Kb_DPQ3cE"
   },
   "source": [
    "# Part II - Web Crawling\n",
    "\n",
    "## Overview\n",
    "In 2021, \n",
    "to better introduce and understand the research works on the professors,\n",
    "Deakin university wants to perform the citation prediction on individual professor level.\n",
    "You are required to implement a web crawler to crawl the *citation* information \n",
    "for A/Professor Gang Li from 2003 to 2021 (start at 2003 and end at 2021),\n",
    "and also conduct several prediction coding tasks. \n",
    "You will need to make sure that \n",
    "the web crawling code and prediction code meets the requirements.\n",
    "You are free to use any **Python** package for Web crawling and prediction \n",
    "by finishing below tasks.  \n"
   ]
  },
  {
   "cell_type": "markdown",
   "metadata": {
    "id": "REp-ATy8gGyS"
   },
   "source": [
    "## 5.Crawl Gang Li citation information from 2003 to 2021"
   ]
  },
  {
   "cell_type": "markdown",
   "metadata": {
    "id": "99Y04DfvFMGO"
   },
   "source": [
    " <div class=\"alert alert-block alert-info\">\n",
    "\n",
    "**Code**: \n",
    "    You are required to write the code to generate the csv for Gang Li's citation from 2003 to 2021\n",
    "    <br>\n",
    "    *Keep the outputs for code in your notebook.\n",
    "</div>"
   ]
  },
  {
   "cell_type": "code",
   "execution_count": 30,
   "metadata": {
    "id": "3mBQe2_qdjrc",
    "outputId": "2b94ed25-78c2-487c-f0e5-1786566f9382"
   },
   "outputs": [
    {
     "name": "stdout",
     "output_type": "stream",
     "text": [
      "Collecting chromedriver-install\n",
      "  Downloading chromedriver_install-1.0.3.tar.gz (4.4 kB)\n",
      "Building wheels for collected packages: chromedriver-install\n",
      "  Building wheel for chromedriver-install (setup.py) ... \u001b[?25ldone\n",
      "\u001b[?25h  Created wheel for chromedriver-install: filename=chromedriver_install-1.0.3-py3-none-any.whl size=5086 sha256=801bd917032a9e8f31fe8a28bef78c08cb377b4739a8367e21d7a323a90442b7\n",
      "  Stored in directory: /Users/jacksonthounaojam/Library/Caches/pip/wheels/8c/21/3d/c14d13cc1aaeabb3716dc4559f0ad8eb8b6e0e0d0a97a490e1\n",
      "Successfully built chromedriver-install\n",
      "Installing collected packages: chromedriver-install\n",
      "Successfully installed chromedriver-install-1.0.3\n",
      "Requirement already satisfied: selenium in /Users/jacksonthounaojam/opt/anaconda3/lib/python3.7/site-packages (3.141.0)\n",
      "Requirement already satisfied: urllib3 in /Users/jacksonthounaojam/opt/anaconda3/lib/python3.7/site-packages (from selenium) (1.25.8)\n"
     ]
    }
   ],
   "source": [
    "!pip install chromedriver-install\n",
    "!pip install selenium"
   ]
  },
  {
   "cell_type": "code",
   "execution_count": 2,
   "metadata": {
    "id": "fNuK0t8Xdjrd"
   },
   "outputs": [],
   "source": [
    "import time\n",
    "from selenium import webdriver\n",
    "from selenium.webdriver.common.keys import Keys\n",
    "from selenium.webdriver.chrome.options import Options\n",
    "\n",
    "\n",
    "def load_page(req_url):\n",
    "    options = Options()\n",
    "    options.add_argument('--headless')\n",
    "    driver = webdriver.Firefox()\n",
    "    #driver = webdriver.Chrome(os.path.join(os.getcwd(), \"content\", \"chromedriver\"),\n",
    "                     #options=options)\n",
    "    #driver.get(req_url)\n",
    "    elem = driver.find_elements_by_xpath('//span[contains(.,\"Show more\")]')\n",
    "    for i in range(3):\n",
    "        elem[0].click()\n",
    "        time.sleep(3)\n",
    "    return driver.page_source\n",
    "\n",
    "def get_text(tag_lst):\n",
    "    ret_lst = list()\n",
    "    for tag in tag_lst:\n",
    "        ret_lst.append(tag.text)\n",
    "    return ret_lst\n",
    "\n",
    "def beautiful_soup_object(content):\n",
    "    bs = BeautifulSoup(content, 'html')\n",
    "    all_entries = bs.find_all(\"table\")[1].find_all(\"td\")\n",
    "    lst_content = list()\n",
    "    for i in range(0, len(all_entries), 3):\n",
    "        lst_content.append(get_text(all_entries[i:i+3]))\n",
    "    return lst_content"
   ]
  },
  {
   "cell_type": "code",
   "execution_count": 3,
   "metadata": {
    "id": "y7kM20nZdjrd"
   },
   "outputs": [
    {
     "ename": "IndexError",
     "evalue": "list index out of range",
     "output_type": "error",
     "traceback": [
      "\u001b[0;31m---------------------------------------------------------------------------\u001b[0m",
      "\u001b[0;31mIndexError\u001b[0m                                Traceback (most recent call last)",
      "\u001b[0;32m<ipython-input-3-4be838de7712>\u001b[0m in \u001b[0;36m<module>\u001b[0;34m\u001b[0m\n\u001b[1;32m      1\u001b[0m \u001b[0mreq_url\u001b[0m \u001b[0;34m=\u001b[0m \u001b[0;34m\"https://scholar.google.com/citations?user=dqwjm-0AAAAJ\"\u001b[0m\u001b[0;34m\u001b[0m\u001b[0;34m\u001b[0m\u001b[0m\n\u001b[0;32m----> 2\u001b[0;31m \u001b[0mcontent\u001b[0m \u001b[0;34m=\u001b[0m \u001b[0mload_page\u001b[0m\u001b[0;34m(\u001b[0m\u001b[0mreq_url\u001b[0m\u001b[0;34m)\u001b[0m\u001b[0;34m\u001b[0m\u001b[0;34m\u001b[0m\u001b[0m\n\u001b[0m\u001b[1;32m      3\u001b[0m \u001b[0mlst\u001b[0m \u001b[0;34m=\u001b[0m \u001b[0mbeautiful_soup_object\u001b[0m\u001b[0;34m(\u001b[0m\u001b[0mcontent\u001b[0m\u001b[0;34m)\u001b[0m\u001b[0;34m\u001b[0m\u001b[0;34m\u001b[0m\u001b[0m\n",
      "\u001b[0;32m<ipython-input-2-ef361c20b29f>\u001b[0m in \u001b[0;36mload_page\u001b[0;34m(req_url)\u001b[0m\n\u001b[1;32m     14\u001b[0m     \u001b[0melem\u001b[0m \u001b[0;34m=\u001b[0m \u001b[0mdriver\u001b[0m\u001b[0;34m.\u001b[0m\u001b[0mfind_elements_by_xpath\u001b[0m\u001b[0;34m(\u001b[0m\u001b[0;34m'//span[contains(.,\"Show more\")]'\u001b[0m\u001b[0;34m)\u001b[0m\u001b[0;34m\u001b[0m\u001b[0;34m\u001b[0m\u001b[0m\n\u001b[1;32m     15\u001b[0m     \u001b[0;32mfor\u001b[0m \u001b[0mi\u001b[0m \u001b[0;32min\u001b[0m \u001b[0mrange\u001b[0m\u001b[0;34m(\u001b[0m\u001b[0;36m3\u001b[0m\u001b[0;34m)\u001b[0m\u001b[0;34m:\u001b[0m\u001b[0;34m\u001b[0m\u001b[0;34m\u001b[0m\u001b[0m\n\u001b[0;32m---> 16\u001b[0;31m         \u001b[0melem\u001b[0m\u001b[0;34m[\u001b[0m\u001b[0;36m0\u001b[0m\u001b[0;34m]\u001b[0m\u001b[0;34m.\u001b[0m\u001b[0mclick\u001b[0m\u001b[0;34m(\u001b[0m\u001b[0;34m)\u001b[0m\u001b[0;34m\u001b[0m\u001b[0;34m\u001b[0m\u001b[0m\n\u001b[0m\u001b[1;32m     17\u001b[0m         \u001b[0mtime\u001b[0m\u001b[0;34m.\u001b[0m\u001b[0msleep\u001b[0m\u001b[0;34m(\u001b[0m\u001b[0;36m3\u001b[0m\u001b[0;34m)\u001b[0m\u001b[0;34m\u001b[0m\u001b[0;34m\u001b[0m\u001b[0m\n\u001b[1;32m     18\u001b[0m     \u001b[0;32mreturn\u001b[0m \u001b[0mdriver\u001b[0m\u001b[0;34m.\u001b[0m\u001b[0mpage_source\u001b[0m\u001b[0;34m\u001b[0m\u001b[0;34m\u001b[0m\u001b[0m\n",
      "\u001b[0;31mIndexError\u001b[0m: list index out of range"
     ]
    }
   ],
   "source": [
    "req_url = \"https://scholar.google.com/citations?user=dqwjm-0AAAAJ\"\n",
    "content = load_page(req_url)\n",
    "lst = beautiful_soup_object(content)"
   ]
  },
  {
   "cell_type": "code",
   "execution_count": null,
   "metadata": {
    "id": "WpyNYt7B7_V8"
   },
   "outputs": [],
   "source": [
    "# Your code to crawl and generate the csv, and save it to variable create_df\n",
    "create_df = pd.DataFrame(lst, columns=[\"Title\", \"Citations\", \"Year\"])\n",
    "\n",
    "create_df['Citations'] = create_df['Citations'].apply(lambda x: x.strip(\"*\")).replace(\"\", np.nan).astype(\"float\")\n",
    "create_df = create_df[~create_df[\"Year\"].isin([\"\"])]\n",
    "create_df = create_df.groupby('Year').sum().sort_index().reset_index().iloc[6:].reset_index(drop=True)"
   ]
  },
  {
   "cell_type": "code",
   "execution_count": null,
   "metadata": {
    "id": "RkRm6b2udjrd",
    "scrolled": true
   },
   "outputs": [],
   "source": [
    "create_df.to_csv(\"Citation2003-2021.csv\", index=False)"
   ]
  },
  {
   "cell_type": "code",
   "execution_count": null,
   "metadata": {
    "id": "W4hxANK1djre",
    "outputId": "67237933-e3d2-4676-fe4b-a279e8b6c40d",
    "scrolled": true
   },
   "outputs": [
    {
     "data": {
      "image/png": "[encoded data removed]",
      "text/plain": [
       "<Figure size 432x288 with 1 Axes>"
      ]
     },
     "metadata": {
      "needs_background": "light",
      "tags": []
     },
     "output_type": "display_data"
    }
   ],
   "source": [
    "create_df.set_index(\"Year\").plot()\n",
    "plt.show()"
   ]
  },
  {
   "cell_type": "markdown",
   "metadata": {
    "id": "mDs8ETNWII8b"
   },
   "source": [
    "## 6.Train Arima to predict the 2018 to 2020 citation"
   ]
  },
  {
   "cell_type": "markdown",
   "metadata": {
    "id": "mtKVVs6wGXwc"
   },
   "source": [
    "### 6.1 Train Arima Model\n",
    " <div class=\"alert alert-block alert-info\">\n",
    "\n",
    "**Code**: \n",
    "    You will need to use the create_df and then perform the\n",
    "Arima training with parameter of $p=1$, $q=1$ and $d=1$ on data from 2003 to 2017 (15 years)\n",
    "    <br>\n",
    "    *Keep the outputs for code in your notebook.\n",
    "</div>"
   ]
  },
  {
   "cell_type": "code",
   "execution_count": null,
   "metadata": {
    "id": "5azaduXOGd5_"
   },
   "outputs": [],
   "source": [
    "# your code to use create_df to split the data into train (year 2003 to 2017) and test\n",
    "train_ar = create_df.iloc[:15][\"Citations\"]\n",
    "test_ar = create_df.iloc[15:][\"Citations\"]"
   ]
  },
  {
   "cell_type": "markdown",
   "metadata": {
    "id": "iomydVFJGdFQ"
   },
   "source": [
    "### 6.2 Predicting the citation and Calculate the RMSE\n",
    " <div class=\"alert alert-block alert-info\">\n",
    "\n",
    "**Code**: \n",
    "    you will need to use the trained Arime model to predict the citation on year 2018, 2019 and 2020.\n",
    "You will need to perform the evaluation by comparing the predicted citation from 2018 to 2020 with \n",
    "the true citation from 2018 to 2020 and calculate the RMSE (root mean square error).\n",
    "    <br>\n",
    "    *Keep the outputs for code in your notebook.\n",
    "</div>"
   ]
  },
  {
   "cell_type": "code",
   "execution_count": null,
   "metadata": {
    "id": "5cqMwQw2Gqh1",
    "outputId": "dedb54ff-8445-4b03-8c93-99ebabb2a2cd"
   },
   "outputs": [
    {
     "name": "stdout",
     "output_type": "stream",
     "text": [
      "                              ARMA Model Results                              \n",
      "==============================================================================\n",
      "Dep. Variable:              Citations   No. Observations:                   15\n",
      "Model:                     ARMA(1, 1)   Log Likelihood                -101.520\n",
      "Method:                       css-mle   S.D. of innovations            209.758\n",
      "Date:                Wed, 12 May 2021   AIC                            211.040\n",
      "Time:                        16:04:41   BIC                            213.872\n",
      "Sample:                             0   HQIC                           211.010\n",
      "                                                                              \n",
      "===================================================================================\n",
      "                      coef    std err          z      P>|z|      [0.025      0.975]\n",
      "-----------------------------------------------------------------------------------\n",
      "const             229.7618     50.682      4.533      0.001     130.426     329.097\n",
      "ar.L1.Citations    -0.8290      0.285     -2.905      0.013      -1.388      -0.270\n",
      "ma.L1.Citations     0.7052      0.328      2.148      0.053       0.062       1.349\n",
      "                                    Roots                                    \n",
      "=============================================================================\n",
      "                  Real          Imaginary           Modulus         Frequency\n",
      "-----------------------------------------------------------------------------\n",
      "AR.1           -1.2063           +0.0000j            1.2063            0.5000\n",
      "MA.1           -1.4180           +0.0000j            1.4180            0.5000\n",
      "-----------------------------------------------------------------------------\n"
     ]
    }
   ],
   "source": [
    "# your code to predict the citation and save it to variable preds. \n",
    "# You may need to output the confidence interval(95%) here as well\n",
    "from statsmodels.tsa.arima_model import ARIMA\n",
    "\n",
    "model = ARIMA(train_ar, order=(1,0,1))\n",
    "model_ar = model.fit()\n",
    "\n",
    "preds = model_ar.forecast(4)[0]\n",
    "print(model_ar.summary())"
   ]
  },
  {
   "cell_type": "code",
   "execution_count": null,
   "metadata": {
    "id": "Mq1fAKXTIdU4",
    "outputId": "deafcc25-8b10-4491-fd06-2d05b299e294"
   },
   "outputs": [
    {
     "name": "stdout",
     "output_type": "stream",
     "text": [
      "RMSE:  140.5844281897554\n"
     ]
    }
   ],
   "source": [
    "# Print the error below by comparing the test and preds:\n",
    "from sklearn.metrics import mean_squared_error\n",
    "import matplotlib.pyplot as plt\n",
    "import seaborn as sns\n",
    "import numpy as np\n",
    "\n",
    "# Your code to show the performance RMSE\n",
    "print(\"RMSE: \", np.sqrt(mean_squared_error(preds, test_ar.values)))"
   ]
  },
  {
   "cell_type": "markdown",
   "metadata": {
    "id": "Q7k3Savqewxg"
   },
   "source": [
    "### 6.3 Draw the visualization to compare"
   ]
  },
  {
   "cell_type": "markdown",
   "metadata": {
    "id": "JC5xseYSH7ze"
   },
   "source": [
    " <div class=\"alert alert-block alert-info\">\n",
    "\n",
    "**Code**: \n",
    "   You will also need to use matplotlib to draw the line plot with training data from 2013 to 2017,\n",
    "the testing truth, the prediction and also the confidence interval (95%). \n",
    "    <br>\n",
    "    *Keep the outputs for code in your notebook.\n",
    "</div>"
   ]
  },
  {
   "cell_type": "code",
   "execution_count": null,
   "metadata": {
    "id": "htu6Y6-Mdjrf",
    "outputId": "3f55d6fc-c126-4fdc-ec2b-ca14301b398a"
   },
   "outputs": [
    {
     "data": {
      "image/png": "[encoded data removed]",
      "text/plain": [
       "<Figure size 864x432 with 1 Axes>"
      ]
     },
     "metadata": {
      "needs_background": "light",
      "tags": []
     },
     "output_type": "display_data"
    }
   ],
   "source": [
    "plt.figure(figsize=(12, 6))\n",
    "sns.lineplot(x=range(2003, 2018), y=train_ar, label=\"Training data\", marker='o')\n",
    "sns.lineplot(x=range(2018, 2022), y=preds, label=\"Preds\", marker='o')\n",
    "sns.lineplot(x=range(2018, 2022), y=test_ar.values, label=\"True test_data\", marker='o')\n",
    "plt.fill_between(range(2018, 2022), model_ar.forecast(4)[2][:, 0], \n",
    "                 model_ar.forecast(4)[2][:, 1], alpha=0.3, label=\"Confidence interval\")\n",
    "plt.legend()\n",
    "plt.xticks(range(2003, 2022), range(2003, 2022), rotation=90)\n",
    "plt.title(\"RMSE: {:.2f}\".format(np.sqrt(mean_squared_error(preds, test_ar.values))))\n",
    "plt.show()"
   ]
  },
  {
   "cell_type": "markdown",
   "metadata": {
    "id": "4Qhi7QJhPenf"
   },
   "source": [
    "## 7.Conduct the Grid Search with paramter selection and then predict the 2021 and 2022"
   ]
  },
  {
   "cell_type": "markdown",
   "metadata": {
    "id": "ie6-3EY_IdT3"
   },
   "source": [
    "### 7.1 Grid Search\n",
    " <div class=\"alert alert-block alert-info\">\n",
    "\n",
    "**Code**: \n",
    "  You will need to run the grid search for parameter $p=[1,2]$, \n",
    "$q=[1,2]$,\n",
    "$d=[1,2]$\n",
    "with training data on year 2003 to 2017 and testing data on 2018 to 2020\n",
    "The result of the search on each paratemer combination (eg: p=1,q=1,d=1)\n",
    "will need to be stored in the \"search-results.csv\",\n",
    "The search-results.csv will have the column of \"RMSE\" and column \"PARAMETER\".\n",
    "    <br>\n",
    "    *Keep the outputs for code in your notebook.\n",
    "</div>"
   ]
  },
  {
   "cell_type": "code",
   "execution_count": null,
   "metadata": {
    "id": "9l3SYph7Psk3",
    "outputId": "55371860-3036-4e30-9941-4076b803f54a"
   },
   "outputs": [
    {
     "name": "stderr",
     "output_type": "stream",
     "text": [
      "/home/rabio/anaconda3/lib/python3.7/site-packages/statsmodels/base/model.py:492: HessianInversionWarning: Inverting hessian failed, no bse or cov_params available\n",
      "  'available', HessianInversionWarning)\n"
     ]
    }
   ],
   "source": [
    "# your code to run grid search\n",
    "p = list(range(1,3))\n",
    "q = list(range(1,3))\n",
    "d = [0, 2]\n",
    "RMSE = []\n",
    "PARAMETER = []\n",
    "for a in p:\n",
    "    for b in q:\n",
    "        for c in d:\n",
    "            model1 = ARIMA(train_ar, order=(a,c,b))\n",
    "            model2 = model1.fit()\n",
    "            RMSE.append(np.sqrt(mean_squared_error(test_ar.values, model_ar.forecast(4)[0])))\n",
    "            PARAMETER.append(\"p={0},q={1},d={2}\".format(a, b, c))"
   ]
  },
  {
   "cell_type": "code",
   "execution_count": null,
   "metadata": {
    "id": "gax9Nx6zQ7hH",
    "outputId": "0c1ed5d4-12e3-4b73-99a2-24a13b42efce"
   },
   "outputs": [
    {
     "data": {
      "text/html": [
       "<div>\n",
       "<style scoped>\n",
       "    .dataframe tbody tr th:only-of-type {\n",
       "        vertical-align: middle;\n",
       "    }\n",
       "\n",
       "    .dataframe tbody tr th {\n",
       "        vertical-align: top;\n",
       "    }\n",
       "\n",
       "    .dataframe thead th {\n",
       "        text-align: right;\n",
       "    }\n",
       "</style>\n",
       "<table border=\"1\" class=\"dataframe\">\n",
       "  <thead>\n",
       "    <tr style=\"text-align: right;\">\n",
       "      <th></th>\n",
       "      <th>RMSE</th>\n",
       "      <th>Parameter</th>\n",
       "    </tr>\n",
       "  </thead>\n",
       "  <tbody>\n",
       "    <tr>\n",
       "      <th>0</th>\n",
       "      <td>140.584428</td>\n",
       "      <td>p=1,q=1,d=0</td>\n",
       "    </tr>\n",
       "    <tr>\n",
       "      <th>1</th>\n",
       "      <td>140.584428</td>\n",
       "      <td>p=1,q=1,d=2</td>\n",
       "    </tr>\n",
       "    <tr>\n",
       "      <th>2</th>\n",
       "      <td>140.584428</td>\n",
       "      <td>p=1,q=2,d=0</td>\n",
       "    </tr>\n",
       "    <tr>\n",
       "      <th>3</th>\n",
       "      <td>140.584428</td>\n",
       "      <td>p=1,q=2,d=2</td>\n",
       "    </tr>\n",
       "    <tr>\n",
       "      <th>4</th>\n",
       "      <td>140.584428</td>\n",
       "      <td>p=2,q=1,d=0</td>\n",
       "    </tr>\n",
       "    <tr>\n",
       "      <th>5</th>\n",
       "      <td>140.584428</td>\n",
       "      <td>p=2,q=1,d=2</td>\n",
       "    </tr>\n",
       "  </tbody>\n",
       "</table>\n",
       "</div>"
      ],
      "text/plain": [
       "         RMSE    Parameter\n",
       "0  140.584428  p=1,q=1,d=0\n",
       "1  140.584428  p=1,q=1,d=2\n",
       "2  140.584428  p=1,q=2,d=0\n",
       "3  140.584428  p=1,q=2,d=2\n",
       "4  140.584428  p=2,q=1,d=0\n",
       "5  140.584428  p=2,q=1,d=2"
      ]
     },
     "execution_count": 345,
     "metadata": {
      "tags": []
     },
     "output_type": "execute_result"
    }
   ],
   "source": [
    "# your code to generate the seach-results.csv and print the top 6 rows\n",
    "Results = pd.DataFrame({'RMSE':RMSE,'Parameter':PARAMETER})\n",
    "Results.head(6)"
   ]
  },
  {
   "cell_type": "code",
   "execution_count": null,
   "metadata": {
    "id": "4Mq5QA4rdjrg"
   },
   "outputs": [],
   "source": [
    "Results.to_csv(\"Search-results.csv\", index=False)"
   ]
  },
  {
   "cell_type": "markdown",
   "metadata": {
    "id": "CTey6Y9ER0rE"
   },
   "source": [
    "### 7.2 TRAIN With Best Parameter Set with data up to 2020 and Predict the 2021 and 2022"
   ]
  },
  {
   "cell_type": "markdown",
   "metadata": {
    "id": "skoPt98jJTro"
   },
   "source": [
    "<div class=\"alert alert-block alert-info\">\n",
    "\n",
    "**Code**: \n",
    "  You will need to perform the training with Arima on data from 2003 to 2020 with best parameter you have found in last task,\n",
    "and then conduct the prediction for year 2021 and 2022.\n",
    "    <br>\n",
    "    *Keep the outputs for code in your notebook.\n",
    "</div>"
   ]
  },
  {
   "cell_type": "code",
   "execution_count": null,
   "metadata": {
    "id": "RKSwlnWRRzQ3"
   },
   "outputs": [],
   "source": [
    "# your code to perform the Arima train on data 2003 to 2020\n",
    "train_ar1 = create_df.Citations.values[:-1]\n",
    "model3 = ARIMA(train_ar1, order=(2,0,1))\n",
    "model4 = model3.fit()\n",
    "\n",
    "# Your code to predict for 2021 and 2022\n",
    "preds_21_22 = model4.forecast(2)[0]"
   ]
  },
  {
   "cell_type": "markdown",
   "metadata": {
    "id": "F3TCMUg1JyNj"
   },
   "source": [
    "<div class=\"alert alert-block alert-info\">\n",
    "\n",
    "**Code**: \n",
    "  You will also need to use matplotlib to draw the line plot with training data from 2013 to 2020, the prediction and also the confidence interval (95%).\n",
    "    <br>\n",
    "    *Keep the outputs for code in your notebook.\n",
    "</div>"
   ]
  },
  {
   "cell_type": "code",
   "execution_count": null,
   "metadata": {
    "id": "-42S5XVwdjrh",
    "outputId": "8a960efd-0ebf-4e3e-f7d6-fd6693a4d787"
   },
   "outputs": [
    {
     "data": {
      "image/png": "[encoded data removed]",
      "text/plain": [
       "<Figure size 864x432 with 1 Axes>"
      ]
     },
     "metadata": {
      "needs_background": "light",
      "tags": []
     },
     "output_type": "display_data"
    }
   ],
   "source": [
    "# Plot the points and the prediction with its confidence interval\n",
    "plt.figure(figsize=(12, 6))\n",
    "sns.lineplot(x=range(2003, 2021), y=train_ar1, label=\"Training data\", marker='o')\n",
    "sns.lineplot(x=range(2021, 2023), y=preds_21_22, label=\"Preds\", marker='o')\n",
    "plt.fill_between(range(2021, 2023), model4.forecast(2)[2][:, 0], \n",
    "                 model4.forecast(2)[2][:, 1], alpha=0.3, label=\"Confidence interval\")\n",
    "plt.legend()\n",
    "plt.xticks(range(2003, 2023), range(2003, 2023), rotation=90)\n",
    "plt.title(\"Forecast for year 2021 and 2022\")\n",
    "plt.show()"
   ]
  },
  {
   "cell_type": "markdown",
   "metadata": {
    "id": "9xjRUv6rdjrh"
   },
   "source": [
    "# Part III - Self-Reflective Essay\n",
    "\n",
    "## Overview\n",
    "\n",
    "Please check the assessment task specification details.\n"
   ]
  }
 ],
 "metadata": {
  "colab": {
   "collapsed_sections": [],
   "name": "Task.ipynb",
   "provenance": []
  },
  "kernelspec": {
   "display_name": "Python 3",
   "language": "python",
   "name": "python3"
  },
  "language_info": {
   "codemirror_mode": {
    "name": "ipython",
    "version": 3
   },
   "file_extension": ".py",
   "mimetype": "text/x-python",
   "name": "python",
   "nbconvert_exporter": "python",
   "pygments_lexer": "ipython3",
   "version": "3.7.6"
  }
 },
 "nbformat": 4,
 "nbformat_minor": 1
}
